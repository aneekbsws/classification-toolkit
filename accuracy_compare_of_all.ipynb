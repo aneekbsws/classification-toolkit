{
  "nbformat": 4,
  "nbformat_minor": 0,
  "metadata": {
    "colab": {
      "name": "accuracy_compare_of_all.ipynb",
      "provenance": [],
      "collapsed_sections": []
    },
    "kernelspec": {
      "name": "python3",
      "display_name": "Python 3"
    },
    "language_info": {
      "name": "python"
    }
  },
  "cells": [
    {
      "cell_type": "code",
      "execution_count": null,
      "metadata": {
        "id": "HBky8qoJ6VO5"
      },
      "outputs": [],
      "source": [
        "import pandas as pd\n",
        "import matplotlib.pyplot as plt\n",
        "import numpy as np"
      ]
    },
    {
      "cell_type": "code",
      "source": [
        "dataset = pd.read_csv('Data.csv')\n",
        "X = dataset.iloc[:,1:-1].values\n",
        "y = dataset.iloc[:,-1].values"
      ],
      "metadata": {
        "id": "QUS5_A816aEG"
      },
      "execution_count": null,
      "outputs": []
    },
    {
      "cell_type": "code",
      "source": [
        "from sklearn.model_selection import train_test_split\n",
        "X_train, X_test, y_train, y_test = train_test_split(X,y,test_size=0.2)"
      ],
      "metadata": {
        "id": "k0_31nK-6pO0"
      },
      "execution_count": null,
      "outputs": []
    },
    {
      "cell_type": "code",
      "source": [
        "from sklearn.preprocessing import StandardScaler\n",
        "sc = StandardScaler()\n",
        "X_train = sc.fit_transform(X_train)\n",
        "X_test = sc.transform(X_test)"
      ],
      "metadata": {
        "id": "ei1CvQP660AW"
      },
      "execution_count": null,
      "outputs": []
    },
    {
      "cell_type": "code",
      "source": [
        "from sklearn.linear_model import LogisticRegression\n",
        "from sklearn.neighbors import KNeighborsClassifier\n",
        "from sklearn.svm import SVC\n",
        "from sklearn.tree import DecisionTreeClassifier\n",
        "from sklearn.ensemble import RandomForestClassifier"
      ],
      "metadata": {
        "id": "Rt_rQN_g6_Aw"
      },
      "execution_count": null,
      "outputs": []
    },
    {
      "cell_type": "code",
      "source": [
        "classifiers = {\n",
        "    'logistic': LogisticRegression(),\n",
        "    'neighbors' : KNeighborsClassifier(n_neighbors=5),\n",
        "    'kernel_svm' : SVC(kernel='rbf'),\n",
        "    'decision_tree' : DecisionTreeClassifier(criterion='entropy'),\n",
        "    'random_forest' : RandomForestClassifier(n_estimators=100, criterion='entropy')\n",
        "}"
      ],
      "metadata": {
        "id": "mp8Kn_4Z7PUK"
      },
      "execution_count": null,
      "outputs": []
    },
    {
      "cell_type": "code",
      "source": [
        "from sklearn.metrics import accuracy_score\n",
        "\n",
        "for key,value in classifiers.items() : \n",
        "  classifier = value\n",
        "  classifier.fit(X_train, y_train)\n",
        "  print(key , \": \", accuracy_score(y_test, classifier.predict(X_test)))"
      ],
      "metadata": {
        "id": "03dtvS487_20",
        "colab": {
          "base_uri": "https://localhost:8080/"
        },
        "outputId": "308928fa-945c-4193-8d4d-2655995274f2"
      },
      "execution_count": null,
      "outputs": [
        {
          "output_type": "stream",
          "name": "stdout",
          "text": [
            "logistic :  0.9635036496350365\n",
            "neighbors :  0.9708029197080292\n",
            "kernel_svm :  0.9708029197080292\n",
            "decision_tree :  0.9708029197080292\n",
            "random_forest :  0.9708029197080292\n"
          ]
        }
      ]
    }
  ]
}